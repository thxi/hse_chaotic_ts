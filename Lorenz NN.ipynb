{
 "cells": [
  {
   "cell_type": "markdown",
   "metadata": {
    "toc": true
   },
   "source": [
    "<h1>Table of Contents<span class=\"tocSkip\"></span></h1>\n",
    "<div class=\"toc\"><ul class=\"toc-item\"><li><span><a href=\"#Lorenz-trajectory\" data-toc-modified-id=\"Lorenz-trajectory-1\"><span class=\"toc-item-num\">1&nbsp;&nbsp;</span>Lorenz trajectory</a></span><ul class=\"toc-item\"><li><span><a href=\"#CV-predictions\" data-toc-modified-id=\"CV-predictions-1.1\"><span class=\"toc-item-num\">1.1&nbsp;&nbsp;</span>CV predictions</a></span><ul class=\"toc-item\"><li><span><a href=\"#Heal-test\" data-toc-modified-id=\"Heal-test-1.1.1\"><span class=\"toc-item-num\">1.1.1&nbsp;&nbsp;</span>Heal test</a></span></li></ul></li></ul></li></ul></div>"
   ]
  },
  {
   "cell_type": "code",
   "execution_count": 1,
   "metadata": {
    "ExecuteTime": {
     "end_time": "2021-07-21T19:06:36.179929Z",
     "start_time": "2021-07-21T19:06:35.716677Z"
    }
   },
   "outputs": [],
   "source": [
    "import pandas as pd\n",
    "import numpy as np\n",
    "import seaborn as sns\n",
    "import matplotlib.pyplot as plt\n",
    "\n",
    "sns.set()\n",
    "\n",
    "from tqdm.auto import tqdm"
   ]
  },
  {
   "cell_type": "code",
   "execution_count": 2,
   "metadata": {
    "ExecuteTime": {
     "end_time": "2021-07-21T19:06:36.789706Z",
     "start_time": "2021-07-21T19:06:36.181211Z"
    }
   },
   "outputs": [],
   "source": [
    "from src.Lorentz import Lorentz\n",
    "from src.TSProcessor_GPU import TSProcessor\n",
    "\n",
    "%load_ext autoreload\n",
    "%autoreload 2"
   ]
  },
  {
   "cell_type": "code",
   "execution_count": 3,
   "metadata": {
    "ExecuteTime": {
     "end_time": "2021-07-21T19:06:36.803155Z",
     "start_time": "2021-07-21T19:06:36.790797Z"
    }
   },
   "outputs": [],
   "source": [
    "from src.utils import normalize, denormalize, gen_sin_wave, plot_trajectories, plot_runs\n",
    "from copy import deepcopy"
   ]
  },
  {
   "cell_type": "code",
   "execution_count": 4,
   "metadata": {
    "ExecuteTime": {
     "end_time": "2021-07-21T19:06:36.815792Z",
     "start_time": "2021-07-21T19:06:36.804422Z"
    }
   },
   "outputs": [],
   "source": [
    "import torch\n",
    "import gc\n",
    "import pickle"
   ]
  },
  {
   "cell_type": "code",
   "execution_count": 5,
   "metadata": {
    "ExecuteTime": {
     "end_time": "2021-07-21T19:06:36.829226Z",
     "start_time": "2021-07-21T19:06:36.817540Z"
    }
   },
   "outputs": [],
   "source": [
    "from torch.utils.data import TensorDataset, DataLoader\n",
    "import torch.nn as nn\n",
    "import torch.optim as optim\n",
    "import torch.nn.functional as F"
   ]
  },
  {
   "cell_type": "markdown",
   "metadata": {},
   "source": [
    "## Lorenz trajectory"
   ]
  },
  {
   "cell_type": "markdown",
   "metadata": {},
   "source": [
    "### CV predictions"
   ]
  },
  {
   "cell_type": "code",
   "execution_count": 52,
   "metadata": {
    "ExecuteTime": {
     "end_time": "2021-07-21T19:11:53.691112Z",
     "start_time": "2021-07-21T19:11:53.673926Z"
    }
   },
   "outputs": [],
   "source": [
    "# basic NN\n",
    "# takes x as input\n",
    "# (takes is_predicted as input)\n",
    "# outputs the estimated next value\n",
    "# (outputs the estimated forecasting error)\n",
    "\n",
    "# batch norm\n",
    "# training plots\n",
    "# adam"
   ]
  },
  {
   "cell_type": "code",
   "execution_count": 53,
   "metadata": {
    "ExecuteTime": {
     "end_time": "2021-07-21T19:11:53.807241Z",
     "start_time": "2021-07-21T19:11:53.793896Z"
    }
   },
   "outputs": [],
   "source": [
    "class LorenzDataset(torch.utils.data.Dataset):\n",
    "    def __init__(self, x, seq_len, h_max):\n",
    "        super().__init__()\n",
    "        self.x = x\n",
    "        self.seq_len = seq_len\n",
    "        self.h_max = h_max\n",
    "\n",
    "    def __getitem__(self, idx: int):\n",
    "        X_start = self.x[idx:idx+self.seq_len]\n",
    "        X_test = self.x[idx+self.seq_len:idx+self.seq_len+self.h_max]\n",
    "        return X_start, X_test\n",
    "    \n",
    "    def __len__(self):\n",
    "        return len(self.x) - self.seq_len - self.h_max + 1"
   ]
  },
  {
   "cell_type": "code",
   "execution_count": 54,
   "metadata": {
    "ExecuteTime": {
     "end_time": "2021-07-21T19:11:54.009238Z",
     "start_time": "2021-07-21T19:11:53.969165Z"
    }
   },
   "outputs": [],
   "source": [
    "train_size = 10000\n",
    "val_size = 2000\n",
    "h_max = 100\n",
    "\n",
    "batch_size = 64\n",
    "seq_len = 128\n",
    "learning_rate = 0.01\n",
    "EPOCHS = 10\n",
    "device = 'cuda:0'"
   ]
  },
  {
   "cell_type": "code",
   "execution_count": 55,
   "metadata": {
    "ExecuteTime": {
     "end_time": "2021-07-21T19:11:54.298749Z",
     "start_time": "2021-07-21T19:11:54.203967Z"
    }
   },
   "outputs": [],
   "source": [
    "x, _, _ = Lorentz().generate(0.1, 3000+train_size+val_size-1) # -1 because of an implementation bug\n",
    "x, x_min, x_max = normalize(x[3000:]) # \"For the Lorenz series, the first 3000 observations are discarded...\""
   ]
  },
  {
   "cell_type": "code",
   "execution_count": 56,
   "metadata": {
    "ExecuteTime": {
     "end_time": "2021-07-21T19:11:54.667426Z",
     "start_time": "2021-07-21T19:11:54.648714Z"
    }
   },
   "outputs": [],
   "source": [
    "x = torch.from_numpy(x.reshape(-1, 1)).type(torch.float32)"
   ]
  },
  {
   "cell_type": "code",
   "execution_count": 57,
   "metadata": {
    "ExecuteTime": {
     "end_time": "2021-07-21T19:11:54.767760Z",
     "start_time": "2021-07-21T19:11:54.755702Z"
    }
   },
   "outputs": [],
   "source": [
    "x_train = x[:train_size]\n",
    "x_val = x[train_size:]\n",
    "\n",
    "train = LorenzDataset(x_train, seq_len, h_max)\n",
    "val = LorenzDataset(x_val, seq_len, h_max)\n",
    "\n",
    "train_loader = DataLoader(train, batch_size=batch_size, shuffle=False, drop_last=True)\n",
    "val_loader = DataLoader(val, batch_size=batch_size, shuffle=False, drop_last=True)"
   ]
  },
  {
   "cell_type": "code",
   "execution_count": 58,
   "metadata": {
    "ExecuteTime": {
     "end_time": "2021-07-21T19:11:55.064839Z",
     "start_time": "2021-07-21T19:11:55.017567Z"
    }
   },
   "outputs": [],
   "source": [
    "class Encoder(nn.Module):\n",
    "    def __init__(self, input_dim, hidden_dim, num_layers, output_dim, dropout_prob):\n",
    "        super(Encoder, self).__init__()\n",
    "\n",
    "        self.hidden_dim = hidden_dim\n",
    "        self.num_layers = num_layers\n",
    "\n",
    "        self.rnn = nn.RNN(\n",
    "            input_dim, hidden_dim, num_layers, batch_first=True, dropout=dropout_prob\n",
    "        )\n",
    "        \n",
    "        self.fc = nn.Linear(hidden_dim, output_dim)\n",
    "\n",
    "    def forward(self, x):\n",
    "        out, h = self.rnn(x)\n",
    "        out = self.fc(out)\n",
    "        return out, h\n",
    "    \n",
    "class Decoder(nn.Module):\n",
    "    def __init__(self, input_dim, hidden_dim, num_layers, output_dim, dropout_prob):\n",
    "        super(Decoder, self).__init__()\n",
    "\n",
    "        self.hidden_dim = hidden_dim\n",
    "        self.num_layers = num_layers\n",
    "        self.h_max = h_max\n",
    "\n",
    "        self.rnn = nn.RNN(\n",
    "            input_dim, hidden_dim, num_layers, batch_first=True, dropout=dropout_prob\n",
    "        )\n",
    "        \n",
    "        self.fc = nn.Linear(hidden_dim, output_dim)\n",
    "\n",
    "    def forward(self, x, h):\n",
    "        # x - previous values\n",
    "        # h - previous hidden\n",
    "#         print(x.shape, h.shape)\n",
    "        out, h = self.rnn(x, h)\n",
    "        out = self.fc(out)\n",
    "        return out, h"
   ]
  },
  {
   "cell_type": "code",
   "execution_count": 59,
   "metadata": {
    "ExecuteTime": {
     "end_time": "2021-07-21T19:11:55.654457Z",
     "start_time": "2021-07-21T19:11:55.638601Z"
    }
   },
   "outputs": [],
   "source": [
    "class Seq2Seq(nn.Module):\n",
    "    def __init__(self, encoder, decoder, h_max):\n",
    "        super(Seq2Seq, self).__init__()\n",
    "\n",
    "        self.encoder = encoder\n",
    "        self.decoder = decoder\n",
    "        self.h_max = h_max\n",
    "\n",
    "    def forward(self, x_start):\n",
    "        enc_out, h = encoder(x_start)\n",
    "        last_x = x_start[:, -1, :] # take last point from X_start\n",
    "        last_x = last_x.unsqueeze(1)\n",
    "        \n",
    "        x_pred = torch.zeros((x_start.shape[0], h_max, 1)).to(device)\n",
    "        for i in range(self.h_max):\n",
    "            last_x, h = decoder(last_x, h)\n",
    "            x_pred[:, i] = last_x[:, 0, :]\n",
    "        return x_pred"
   ]
  },
  {
   "cell_type": "code",
   "execution_count": 60,
   "metadata": {
    "ExecuteTime": {
     "end_time": "2021-07-21T19:11:56.101440Z",
     "start_time": "2021-07-21T19:11:56.086797Z"
    }
   },
   "outputs": [],
   "source": [
    "encoder = Encoder(1, 10, 1, 10, 0).type(torch.float32)\n",
    "decoder = Decoder(1, 10, 1, 1, 0).type(torch.float32)"
   ]
  },
  {
   "cell_type": "code",
   "execution_count": 61,
   "metadata": {
    "ExecuteTime": {
     "end_time": "2021-07-21T19:11:56.288879Z",
     "start_time": "2021-07-21T19:11:56.270234Z"
    }
   },
   "outputs": [],
   "source": [
    "x_start, x_true = next(iter(train_loader))"
   ]
  },
  {
   "cell_type": "code",
   "execution_count": 62,
   "metadata": {
    "ExecuteTime": {
     "end_time": "2021-07-21T19:11:56.493722Z",
     "start_time": "2021-07-21T19:11:56.453141Z"
    }
   },
   "outputs": [],
   "source": [
    "model = Seq2Seq(encoder, decoder, h_max).type(torch.float32)"
   ]
  },
  {
   "cell_type": "code",
   "execution_count": 63,
   "metadata": {
    "ExecuteTime": {
     "end_time": "2021-07-21T19:11:56.689431Z",
     "start_time": "2021-07-21T19:11:56.650563Z"
    }
   },
   "outputs": [],
   "source": [
    "model.to(device);"
   ]
  },
  {
   "cell_type": "code",
   "execution_count": 64,
   "metadata": {
    "ExecuteTime": {
     "end_time": "2021-07-21T19:11:56.896739Z",
     "start_time": "2021-07-21T19:11:56.856805Z"
    }
   },
   "outputs": [],
   "source": [
    "loss_func = nn.MSELoss()\n",
    "optimizer = optim.Adam(model.parameters(), lr=learning_rate)"
   ]
  },
  {
   "cell_type": "code",
   "execution_count": 65,
   "metadata": {
    "ExecuteTime": {
     "end_time": "2021-07-21T19:13:18.567362Z",
     "start_time": "2021-07-21T19:11:57.083482Z"
    }
   },
   "outputs": [
    {
     "data": {
      "application/vnd.jupyter.widget-view+json": {
       "model_id": "0d49c8e388434b27afb7b8b52a2250b0",
       "version_major": 2,
       "version_minor": 0
      },
      "text/plain": [
       "  0%|          | 0/10 [00:00<?, ?it/s]"
      ]
     },
     "metadata": {},
     "output_type": "display_data"
    },
    {
     "name": "stdout",
     "output_type": "stream",
     "text": [
      "0 tensor(0.0492)\n",
      "0 tensor(0.0467)\n",
      "1 tensor(0.0476)\n",
      "1 tensor(0.0458)\n",
      "2 tensor(0.0475)\n",
      "2 tensor(0.0455)\n",
      "3 tensor(0.0475)\n",
      "3 tensor(0.0456)\n",
      "4 tensor(0.0476)\n",
      "4 tensor(0.0459)\n",
      "5 tensor(0.0477)\n",
      "5 tensor(0.0458)\n",
      "6 tensor(0.0478)\n",
      "6 tensor(0.0458)\n",
      "7 tensor(0.0478)\n",
      "7 tensor(0.0459)\n",
      "8 tensor(0.0478)\n",
      "8 tensor(0.0458)\n",
      "9 tensor(0.0477)\n",
      "9 tensor(0.0458)\n"
     ]
    }
   ],
   "source": [
    "for epoch in tqdm(range(EPOCHS)):\n",
    "    model.train()\n",
    "    losses = []\n",
    "    for x_start, x_true in train_loader:\n",
    "        x_start = x_start.to(device)\n",
    "        x_true = x_true.to(device)\n",
    "        x_pred = model(x_start)\n",
    "        \n",
    "        loss = loss_func(x_pred, x_true)\n",
    "        \n",
    "        optimizer.zero_grad()\n",
    "        loss.backward()\n",
    "        optimizer.step()\n",
    "        \n",
    "        losses.append(loss.item())\n",
    "    \n",
    "    print(epoch, torch.Tensor(losses).mean())\n",
    "\n",
    "    model.eval()\n",
    "    with torch.no_grad():\n",
    "        losses = []\n",
    "        for x_start, x_true in val_loader:\n",
    "            x_start = x_start.to(device)\n",
    "            x_true = x_true.to(device)\n",
    "            x_pred = model(x_start)\n",
    "\n",
    "            loss = loss_func(x_pred, x_true)\n",
    "            \n",
    "            losses.append(loss.item())\n",
    "\n",
    "            \n",
    "        print(epoch, torch.Tensor(losses).mean())"
   ]
  },
  {
   "cell_type": "code",
   "execution_count": null,
   "metadata": {},
   "outputs": [],
   "source": []
  },
  {
   "cell_type": "code",
   "execution_count": null,
   "metadata": {},
   "outputs": [],
   "source": []
  },
  {
   "cell_type": "code",
   "execution_count": null,
   "metadata": {},
   "outputs": [],
   "source": []
  },
  {
   "cell_type": "code",
   "execution_count": null,
   "metadata": {},
   "outputs": [],
   "source": []
  },
  {
   "cell_type": "code",
   "execution_count": null,
   "metadata": {},
   "outputs": [],
   "source": []
  },
  {
   "cell_type": "markdown",
   "metadata": {},
   "source": [
    "#### Heal test"
   ]
  },
  {
   "cell_type": "code",
   "execution_count": null,
   "metadata": {
    "ExecuteTime": {
     "end_time": "2021-07-19T17:12:00.026146Z",
     "start_time": "2021-07-19T17:12:00.006002Z"
    }
   },
   "outputs": [],
   "source": [
    "train_size = 50\n",
    "h_max = 20 # max prediction horizon (t+h)\n",
    "n_folds = 500\n",
    "\n",
    "\n",
    "points_in_template = 3\n",
    "max_template_spread = 2 # max distance between y_t1 and y_t2, y_1 and y_11\n",
    "\n",
    "\n",
    "# trajectories prediction parameters\n",
    "eps = 0.01\n",
    "n_trajectories = 24\n",
    "noise_amp = 0.01"
   ]
  },
  {
   "cell_type": "code",
   "execution_count": null,
   "metadata": {
    "ExecuteTime": {
     "end_time": "2021-07-19T17:12:00.280614Z",
     "start_time": "2021-07-19T17:12:00.233170Z"
    }
   },
   "outputs": [],
   "source": [
    "x = np.concatenate([\n",
    "    np.array(range(20)),\n",
    "    np.array(range(18, 0, -1)),\n",
    "    np.array(range(20)),\n",
    "    np.array(range(18, 0, -1)),\n",
    "    np.array(range(20)),\n",
    "    np.array(range(18, 0, -1)),\n",
    "    np.array(range(20)),\n",
    "    np.array(range(18, 0, -1)),\n",
    "    np.array(range(20)),\n",
    "    np.array(range(18, 0, -1)),\n",
    "    np.array(range(20)),\n",
    "    np.array(range(18, 0, -1)),\n",
    "    np.array(range(20)),\n",
    "    np.array(range(18, 0, -1)),\n",
    "    np.array(range(20)),\n",
    "    np.array(range(18, 0, -1)),\n",
    "])"
   ]
  },
  {
   "cell_type": "code",
   "execution_count": null,
   "metadata": {
    "ExecuteTime": {
     "end_time": "2021-07-19T17:12:00.357735Z",
     "start_time": "2021-07-19T17:12:00.344001Z"
    }
   },
   "outputs": [],
   "source": [
    "t=0\n",
    "X_train = x[t:t+train_size]\n",
    "X_train = torch.from_numpy(X_train).type(torch.float32).to('cuda')\n",
    "\n",
    "start_points = max_template_spread * (points_in_template-1)\n",
    "\n",
    "X_start = x[t+train_size-start_points:t+train_size]\n",
    "X_start = torch.from_numpy(X_start).type(torch.float32).to('cuda')\n",
    "\n",
    "X_test_cpu = x[t+train_size:t+train_size+h_max]\n",
    "X_test = torch.from_numpy(X_test_cpu).type(torch.float32).to('cuda')\n",
    "\n",
    "tsp = TSProcessor(\n",
    "    points_in_template=points_in_template,\n",
    "    max_template_spread=max_template_spread,\n",
    "    X_train=X_train,\n",
    ")"
   ]
  },
  {
   "cell_type": "code",
   "execution_count": null,
   "metadata": {
    "ExecuteTime": {
     "end_time": "2021-07-19T17:12:00.975263Z",
     "start_time": "2021-07-19T17:12:00.954807Z"
    }
   },
   "outputs": [],
   "source": [
    "X_pred = X_test.clone()\n",
    "X_pred[0] = np.nan\n",
    "X_pred[6] = np.nan\n",
    "X_pred[10] = np.nan"
   ]
  },
  {
   "cell_type": "code",
   "execution_count": null,
   "metadata": {
    "ExecuteTime": {
     "end_time": "2021-07-19T17:12:11.003454Z",
     "start_time": "2021-07-19T17:12:10.983406Z"
    }
   },
   "outputs": [],
   "source": [
    "X_test"
   ]
  },
  {
   "cell_type": "code",
   "execution_count": null,
   "metadata": {
    "ExecuteTime": {
     "end_time": "2021-07-19T17:12:11.606207Z",
     "start_time": "2021-07-19T17:12:11.210269Z"
    },
    "scrolled": true
   },
   "outputs": [],
   "source": [
    "X_traj_pred = tsp.heal(\n",
    "    X_start, h_max,\n",
    "    eps=eps,\n",
    "    n_trajectories=n_trajectories,\n",
    "    noise_amp=noise_amp,\n",
    "    X_pred=X_pred,\n",
    "    random_seed=1\n",
    ")"
   ]
  },
  {
   "cell_type": "code",
   "execution_count": null,
   "metadata": {
    "ExecuteTime": {
     "end_time": "2021-07-19T17:13:12.837229Z",
     "start_time": "2021-07-19T17:13:12.818140Z"
    }
   },
   "outputs": [],
   "source": [
    "X_traj_pred = X_traj_pred.cpu().numpy()"
   ]
  },
  {
   "cell_type": "code",
   "execution_count": null,
   "metadata": {
    "ExecuteTime": {
     "end_time": "2021-07-19T17:13:13.192314Z",
     "start_time": "2021-07-19T17:13:13.096916Z"
    }
   },
   "outputs": [],
   "source": [
    "unified_result = tsp.predict_unified(\n",
    "    X_traj_pred,\n",
    "    method='cluster',\n",
    "    dbs_min_trajectories=dbs_min_trajectories,\n",
    "    dbs_eps=dbs_eps,\n",
    "    dbs_min_samples=dbs_min_samples,\n",
    ")\n",
    "X_pred = unified_result['X_pred']\n",
    "\n",
    "non_pred = np.isnan(X_pred).astype(int)\n",
    "rmse = (X_pred - X_test_cpu)**2\n",
    "\n",
    "gc.collect()\n",
    "torch.cuda.empty_cache()"
   ]
  },
  {
   "cell_type": "code",
   "execution_count": null,
   "metadata": {
    "ExecuteTime": {
     "end_time": "2021-07-19T17:13:23.147668Z",
     "start_time": "2021-07-19T17:13:22.862316Z"
    }
   },
   "outputs": [],
   "source": [
    "plot_trajectories(\n",
    "    'random', X_train.cpu().numpy(), X_test.cpu().numpy(), # plotting since X_start\n",
    "    noise_amp, n_trajectories,\n",
    "    X_traj_pred, X_pred#, filename=f'Lorenz_cluster_{fold}_{noise_amp:.2f}.png'\n",
    ")"
   ]
  },
  {
   "cell_type": "code",
   "execution_count": null,
   "metadata": {},
   "outputs": [],
   "source": []
  },
  {
   "cell_type": "code",
   "execution_count": null,
   "metadata": {},
   "outputs": [],
   "source": []
  },
  {
   "cell_type": "code",
   "execution_count": null,
   "metadata": {},
   "outputs": [],
   "source": []
  },
  {
   "cell_type": "code",
   "execution_count": null,
   "metadata": {},
   "outputs": [],
   "source": [
    "X_traj_pred = tsp.heal(\n",
    "    X_start, h_max,\n",
    "    eps=eps,\n",
    "    n_trajectories=n_trajectories,\n",
    "    noise_amp=noise_amp,\n",
    "    X_pred=X_pred,\n",
    "    random_seed=1\n",
    ")"
   ]
  },
  {
   "cell_type": "code",
   "execution_count": null,
   "metadata": {},
   "outputs": [],
   "source": []
  },
  {
   "cell_type": "code",
   "execution_count": null,
   "metadata": {},
   "outputs": [],
   "source": []
  },
  {
   "cell_type": "code",
   "execution_count": null,
   "metadata": {},
   "outputs": [],
   "source": []
  }
 ],
 "metadata": {
  "kernelspec": {
   "display_name": "Python 3 (ipykernel)",
   "language": "python",
   "name": "python3"
  },
  "language_info": {
   "codemirror_mode": {
    "name": "ipython",
    "version": 3
   },
   "file_extension": ".py",
   "mimetype": "text/x-python",
   "name": "python",
   "nbconvert_exporter": "python",
   "pygments_lexer": "ipython3",
   "version": "3.8.10"
  },
  "toc": {
   "base_numbering": 1,
   "nav_menu": {},
   "number_sections": true,
   "sideBar": true,
   "skip_h1_title": true,
   "title_cell": "Table of Contents",
   "title_sidebar": "Contents",
   "toc_cell": true,
   "toc_position": {
    "height": "calc(100% - 180px)",
    "left": "10px",
    "top": "150px",
    "width": "384px"
   },
   "toc_section_display": true,
   "toc_window_display": true
  },
  "varInspector": {
   "cols": {
    "lenName": 16,
    "lenType": 16,
    "lenVar": 40
   },
   "kernels_config": {
    "python": {
     "delete_cmd_postfix": "",
     "delete_cmd_prefix": "del ",
     "library": "var_list.py",
     "varRefreshCmd": "print(var_dic_list())"
    },
    "r": {
     "delete_cmd_postfix": ") ",
     "delete_cmd_prefix": "rm(",
     "library": "var_list.r",
     "varRefreshCmd": "cat(var_dic_list()) "
    }
   },
   "oldHeight": 122.85,
   "position": {
    "height": "790.85px",
    "left": "1538px",
    "right": "20px",
    "top": "116px",
    "width": "350px"
   },
   "types_to_exclude": [
    "module",
    "function",
    "builtin_function_or_method",
    "instance",
    "_Feature"
   ],
   "varInspector_section_display": "block",
   "window_display": true
  }
 },
 "nbformat": 4,
 "nbformat_minor": 4
}
