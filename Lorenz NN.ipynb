{
 "cells": [
  {
   "cell_type": "markdown",
   "metadata": {
    "toc": true
   },
   "source": [
    "<h1>Table of Contents<span class=\"tocSkip\"></span></h1>\n",
    "<div class=\"toc\"><ul class=\"toc-item\"><li><span><a href=\"#Lorenz-trajectory\" data-toc-modified-id=\"Lorenz-trajectory-1\"><span class=\"toc-item-num\">1&nbsp;&nbsp;</span>Lorenz trajectory</a></span><ul class=\"toc-item\"><li><span><a href=\"#CV-predictions\" data-toc-modified-id=\"CV-predictions-1.1\"><span class=\"toc-item-num\">1.1&nbsp;&nbsp;</span>CV predictions</a></span><ul class=\"toc-item\"><li><span><a href=\"#Heal-test\" data-toc-modified-id=\"Heal-test-1.1.1\"><span class=\"toc-item-num\">1.1.1&nbsp;&nbsp;</span>Heal test</a></span></li></ul></li></ul></li></ul></div>"
   ]
  },
  {
   "cell_type": "code",
   "execution_count": 1,
   "metadata": {
    "ExecuteTime": {
     "end_time": "2021-07-21T14:30:54.191955Z",
     "start_time": "2021-07-21T14:30:53.742296Z"
    }
   },
   "outputs": [],
   "source": [
    "import pandas as pd\n",
    "import numpy as np\n",
    "import seaborn as sns\n",
    "import matplotlib.pyplot as plt\n",
    "\n",
    "sns.set()\n",
    "\n",
    "from tqdm.auto import tqdm"
   ]
  },
  {
   "cell_type": "code",
   "execution_count": 2,
   "metadata": {
    "ExecuteTime": {
     "end_time": "2021-07-21T14:30:54.782202Z",
     "start_time": "2021-07-21T14:30:54.196375Z"
    }
   },
   "outputs": [],
   "source": [
    "from src.Lorentz import Lorentz\n",
    "from src.TSProcessor_GPU import TSProcessor\n",
    "\n",
    "%load_ext autoreload\n",
    "%autoreload 2"
   ]
  },
  {
   "cell_type": "code",
   "execution_count": 3,
   "metadata": {
    "ExecuteTime": {
     "end_time": "2021-07-21T14:30:54.806256Z",
     "start_time": "2021-07-21T14:30:54.795313Z"
    }
   },
   "outputs": [],
   "source": [
    "from src.utils import normalize, denormalize, gen_sin_wave, plot_trajectories, plot_runs\n",
    "from copy import deepcopy"
   ]
  },
  {
   "cell_type": "code",
   "execution_count": 4,
   "metadata": {
    "ExecuteTime": {
     "end_time": "2021-07-21T14:30:54.833658Z",
     "start_time": "2021-07-21T14:30:54.823069Z"
    }
   },
   "outputs": [],
   "source": [
    "import torch\n",
    "import gc\n",
    "import pickle"
   ]
  },
  {
   "cell_type": "code",
   "execution_count": 156,
   "metadata": {
    "ExecuteTime": {
     "end_time": "2021-07-21T17:11:38.557714Z",
     "start_time": "2021-07-21T17:11:38.539309Z"
    }
   },
   "outputs": [],
   "source": [
    "from torch.utils.data import TensorDataset, DataLoader\n",
    "import torch.nn as nn\n",
    "import torch.optim as optim"
   ]
  },
  {
   "cell_type": "markdown",
   "metadata": {},
   "source": [
    "## Lorenz trajectory"
   ]
  },
  {
   "cell_type": "markdown",
   "metadata": {},
   "source": [
    "### CV predictions"
   ]
  },
  {
   "cell_type": "code",
   "execution_count": 234,
   "metadata": {
    "ExecuteTime": {
     "end_time": "2021-07-21T17:15:57.323947Z",
     "start_time": "2021-07-21T17:15:57.307648Z"
    }
   },
   "outputs": [],
   "source": [
    "# basic NN\n",
    "# takes x as input\n",
    "# (takes is_predicted as input)\n",
    "# outputs the estimated next value\n",
    "# (outputs the estimated forecasting error)\n",
    "\n",
    "# batch norm\n",
    "# training plots\n",
    "# adam"
   ]
  },
  {
   "cell_type": "code",
   "execution_count": 317,
   "metadata": {
    "ExecuteTime": {
     "end_time": "2021-07-21T17:51:57.758552Z",
     "start_time": "2021-07-21T17:51:57.743652Z"
    }
   },
   "outputs": [],
   "source": [
    "class LorenzDataset(torch.utils.data.Dataset):\n",
    "    def __init__(self, x, seq_len):\n",
    "        super().__init__()\n",
    "        self.x = x\n",
    "        self.seq_len = seq_len\n",
    "\n",
    "    def __getitem__(self, idx: int):\n",
    "        return self.x[idx:idx+self.seq_len]\n",
    "    \n",
    "    def __len__(self):\n",
    "        return len(self.x) - self.seq_len + 1"
   ]
  },
  {
   "cell_type": "code",
   "execution_count": 318,
   "metadata": {
    "ExecuteTime": {
     "end_time": "2021-07-21T17:51:58.018132Z",
     "start_time": "2021-07-21T17:51:58.001360Z"
    }
   },
   "outputs": [],
   "source": [
    "# class LorenzDataset(torch.utils.data.Dataset):\n",
    "#     def __init__(self, x, seq_len, h_max):\n",
    "#         super().__init__()\n",
    "#         self.x = x\n",
    "#         self.seq_len = seq_len\n",
    "#         self.h_max = h_max\n",
    "\n",
    "#     def __getitem__(self, idx: int):\n",
    "#         X_start = self.x[idx:idx+self.seq_len]\n",
    "#         X_test = self.x[idx+self.seq_len:idx+self.seq_len+self.h_max]\n",
    "#         return X_start, X_test\n",
    "    \n",
    "#     def __len__(self):\n",
    "#         return len(self.x) - self.seq_len + 1"
   ]
  },
  {
   "cell_type": "code",
   "execution_count": 319,
   "metadata": {
    "ExecuteTime": {
     "end_time": "2021-07-21T17:51:58.224757Z",
     "start_time": "2021-07-21T17:51:58.182937Z"
    }
   },
   "outputs": [],
   "source": [
    "train_size = 10000\n",
    "val_size = 2000\n",
    "h_max = 100\n",
    "\n",
    "batch_size = 64\n",
    "seq_len = 128\n",
    "learning_rate = 0.01\n",
    "EPOCHS = 10\n",
    "device = 'cuda:0'"
   ]
  },
  {
   "cell_type": "code",
   "execution_count": 320,
   "metadata": {
    "ExecuteTime": {
     "end_time": "2021-07-21T17:51:58.304291Z",
     "start_time": "2021-07-21T17:51:58.250445Z"
    }
   },
   "outputs": [],
   "source": [
    "x, _, _ = Lorentz().generate(0.1, 3000+train_size+val_size-1) # -1 because of an implementation bug\n",
    "x, x_min, x_max = normalize(x[3000:]) # \"For the Lorenz series, the first 3000 observations are discarded...\""
   ]
  },
  {
   "cell_type": "code",
   "execution_count": 321,
   "metadata": {
    "ExecuteTime": {
     "end_time": "2021-07-21T17:51:58.387498Z",
     "start_time": "2021-07-21T17:51:58.373282Z"
    }
   },
   "outputs": [],
   "source": [
    "x = torch.from_numpy(x.reshape(-1, 1)).type(torch.float32)"
   ]
  },
  {
   "cell_type": "code",
   "execution_count": 322,
   "metadata": {
    "ExecuteTime": {
     "end_time": "2021-07-21T17:51:58.579733Z",
     "start_time": "2021-07-21T17:51:58.560082Z"
    }
   },
   "outputs": [],
   "source": [
    "x_train = x[:train_size]\n",
    "x_val = x[train_size:]\n",
    "\n",
    "train = LorenzDataset(x_train, seq_len)\n",
    "val = LorenzDataset(x_val, seq_len)\n",
    "\n",
    "train_loader = DataLoader(train, batch_size=batch_size, shuffle=False, drop_last=True)\n",
    "val_loader = DataLoader(val, batch_size=batch_size, shuffle=False, drop_last=True)"
   ]
  },
  {
   "cell_type": "code",
   "execution_count": 323,
   "metadata": {
    "ExecuteTime": {
     "end_time": "2021-07-21T17:51:58.804174Z",
     "start_time": "2021-07-21T17:51:58.764343Z"
    }
   },
   "outputs": [],
   "source": [
    "# x_train = x[:train_size]\n",
    "# x_val = x[train_size:]\n",
    "\n",
    "# train = LorenzDataset(x_train, seq_len, h_max)\n",
    "# val = LorenzDataset(x_val, seq_len, h_max)\n",
    "\n",
    "# train_loader = DataLoader(train, batch_size=batch_size, shuffle=False, drop_last=True)\n",
    "# val_loader = DataLoader(val, batch_size=batch_size, shuffle=False, drop_last=True)"
   ]
  },
  {
   "cell_type": "code",
   "execution_count": 325,
   "metadata": {
    "ExecuteTime": {
     "end_time": "2021-07-21T17:52:04.505337Z",
     "start_time": "2021-07-21T17:52:04.489023Z"
    }
   },
   "outputs": [],
   "source": [
    "# x_start, x_true = next(iter(train_loader))"
   ]
  },
  {
   "cell_type": "code",
   "execution_count": 326,
   "metadata": {
    "ExecuteTime": {
     "end_time": "2021-07-21T17:52:05.311472Z",
     "start_time": "2021-07-21T17:52:05.296443Z"
    }
   },
   "outputs": [],
   "source": [
    "class RNNModel(nn.Module):\n",
    "    def __init__(self, input_dim, hidden_dim, num_layers, output_dim, dropout_prob):\n",
    "        super(RNNModel, self).__init__()\n",
    "\n",
    "        # Defining the number of layers and the nodes in each layer\n",
    "        self.hidden_dim = hidden_dim\n",
    "        self.num_layers = num_layers\n",
    "\n",
    "        # RNN layers\n",
    "        self.rnn = nn.RNN(\n",
    "            input_dim, hidden_dim, num_layers, batch_first=True, dropout=dropout_prob\n",
    "        )\n",
    "        \n",
    "        # Fully connected layer\n",
    "        self.fc = nn.Linear(hidden_dim, output_dim)\n",
    "\n",
    "    def forward(self, x):\n",
    "        out, _ = self.rnn(x)\n",
    "        out = self.fc(out)\n",
    "        return out"
   ]
  },
  {
   "cell_type": "code",
   "execution_count": 327,
   "metadata": {
    "ExecuteTime": {
     "end_time": "2021-07-21T17:52:05.599685Z",
     "start_time": "2021-07-21T17:52:05.581290Z"
    }
   },
   "outputs": [],
   "source": [
    "model = RNNModel(1, 10, 1, 1, 0).type(torch.float32)"
   ]
  },
  {
   "cell_type": "code",
   "execution_count": 328,
   "metadata": {
    "ExecuteTime": {
     "end_time": "2021-07-21T17:52:05.825074Z",
     "start_time": "2021-07-21T17:52:05.784427Z"
    }
   },
   "outputs": [],
   "source": [
    "model.to(device);"
   ]
  },
  {
   "cell_type": "code",
   "execution_count": 329,
   "metadata": {
    "ExecuteTime": {
     "end_time": "2021-07-21T17:52:06.056539Z",
     "start_time": "2021-07-21T17:52:06.016550Z"
    }
   },
   "outputs": [],
   "source": [
    "loss_func = nn.MSELoss()\n",
    "optimizer = optim.Adam(model.parameters(), lr=learning_rate)"
   ]
  },
  {
   "cell_type": "code",
   "execution_count": 330,
   "metadata": {
    "ExecuteTime": {
     "end_time": "2021-07-21T17:52:12.179798Z",
     "start_time": "2021-07-21T17:52:06.196795Z"
    }
   },
   "outputs": [
    {
     "data": {
      "application/vnd.jupyter.widget-view+json": {
       "model_id": "2947908abca8465193bb3ddd5972e84a",
       "version_major": 2,
       "version_minor": 0
      },
      "text/plain": [
       "  0%|          | 0/10 [00:00<?, ?it/s]"
      ]
     },
     "metadata": {},
     "output_type": "display_data"
    },
    {
     "name": "stdout",
     "output_type": "stream",
     "text": [
      "0 tensor(0.0223)\n",
      "0 tensor(0.0008)\n",
      "1 tensor(0.0005)\n",
      "1 tensor(0.0003)\n",
      "2 tensor(0.0002)\n",
      "2 tensor(0.0001)\n",
      "3 tensor(8.2325e-05)\n",
      "3 tensor(5.1047e-05)\n",
      "4 tensor(3.4501e-05)\n",
      "4 tensor(2.3374e-05)\n",
      "5 tensor(1.7598e-05)\n",
      "5 tensor(1.3306e-05)\n",
      "6 tensor(1.0883e-05)\n",
      "6 tensor(8.6847e-06)\n",
      "7 tensor(7.6189e-06)\n",
      "7 tensor(6.9178e-06)\n",
      "8 tensor(5.6033e-06)\n",
      "8 tensor(4.7056e-06)\n",
      "9 tensor(4.2713e-06)\n",
      "9 tensor(3.5838e-06)\n"
     ]
    }
   ],
   "source": [
    "for epoch in tqdm(range(EPOCHS)):\n",
    "    model.train()\n",
    "    losses = []\n",
    "    for x_true in train_loader:\n",
    "        x_true = x_true.to(device)\n",
    "        x_pred = model(x_true)\n",
    "        \n",
    "        loss = loss_func(x_pred[:, 1:, :], x_true[:, :-1, :])\n",
    "        \n",
    "        optimizer.zero_grad()\n",
    "        loss.backward()\n",
    "        optimizer.step()\n",
    "        \n",
    "        losses.append(loss.item())\n",
    "    \n",
    "    print(epoch, torch.Tensor(losses).mean())\n",
    "\n",
    "    model.eval()\n",
    "    with torch.no_grad():\n",
    "        losses = []\n",
    "        for x_true in val_loader:\n",
    "            x_true = x_true.to(device)\n",
    "            x_pred = model(x_true)\n",
    "\n",
    "            loss = loss_func(x_pred[:, 1:, :], x_true[:, :-1, :])\n",
    "            \n",
    "            losses.append(loss.item())\n",
    "\n",
    "            \n",
    "        print(epoch, torch.Tensor(losses).mean())"
   ]
  },
  {
   "cell_type": "code",
   "execution_count": null,
   "metadata": {},
   "outputs": [],
   "source": []
  },
  {
   "cell_type": "code",
   "execution_count": null,
   "metadata": {},
   "outputs": [],
   "source": []
  },
  {
   "cell_type": "code",
   "execution_count": null,
   "metadata": {},
   "outputs": [],
   "source": []
  },
  {
   "cell_type": "code",
   "execution_count": null,
   "metadata": {},
   "outputs": [],
   "source": []
  },
  {
   "cell_type": "code",
   "execution_count": null,
   "metadata": {},
   "outputs": [],
   "source": []
  },
  {
   "cell_type": "markdown",
   "metadata": {},
   "source": [
    "#### Heal test"
   ]
  },
  {
   "cell_type": "code",
   "execution_count": null,
   "metadata": {
    "ExecuteTime": {
     "end_time": "2021-07-19T17:12:00.026146Z",
     "start_time": "2021-07-19T17:12:00.006002Z"
    }
   },
   "outputs": [],
   "source": [
    "train_size = 50\n",
    "h_max = 20 # max prediction horizon (t+h)\n",
    "n_folds = 500\n",
    "\n",
    "\n",
    "points_in_template = 3\n",
    "max_template_spread = 2 # max distance between y_t1 and y_t2, y_1 and y_11\n",
    "\n",
    "\n",
    "# trajectories prediction parameters\n",
    "eps = 0.01\n",
    "n_trajectories = 24\n",
    "noise_amp = 0.01"
   ]
  },
  {
   "cell_type": "code",
   "execution_count": null,
   "metadata": {
    "ExecuteTime": {
     "end_time": "2021-07-19T17:12:00.280614Z",
     "start_time": "2021-07-19T17:12:00.233170Z"
    }
   },
   "outputs": [],
   "source": [
    "x = np.concatenate([\n",
    "    np.array(range(20)),\n",
    "    np.array(range(18, 0, -1)),\n",
    "    np.array(range(20)),\n",
    "    np.array(range(18, 0, -1)),\n",
    "    np.array(range(20)),\n",
    "    np.array(range(18, 0, -1)),\n",
    "    np.array(range(20)),\n",
    "    np.array(range(18, 0, -1)),\n",
    "    np.array(range(20)),\n",
    "    np.array(range(18, 0, -1)),\n",
    "    np.array(range(20)),\n",
    "    np.array(range(18, 0, -1)),\n",
    "    np.array(range(20)),\n",
    "    np.array(range(18, 0, -1)),\n",
    "    np.array(range(20)),\n",
    "    np.array(range(18, 0, -1)),\n",
    "])"
   ]
  },
  {
   "cell_type": "code",
   "execution_count": null,
   "metadata": {
    "ExecuteTime": {
     "end_time": "2021-07-19T17:12:00.357735Z",
     "start_time": "2021-07-19T17:12:00.344001Z"
    }
   },
   "outputs": [],
   "source": [
    "t=0\n",
    "X_train = x[t:t+train_size]\n",
    "X_train = torch.from_numpy(X_train).type(torch.float32).to('cuda')\n",
    "\n",
    "start_points = max_template_spread * (points_in_template-1)\n",
    "\n",
    "X_start = x[t+train_size-start_points:t+train_size]\n",
    "X_start = torch.from_numpy(X_start).type(torch.float32).to('cuda')\n",
    "\n",
    "X_test_cpu = x[t+train_size:t+train_size+h_max]\n",
    "X_test = torch.from_numpy(X_test_cpu).type(torch.float32).to('cuda')\n",
    "\n",
    "tsp = TSProcessor(\n",
    "    points_in_template=points_in_template,\n",
    "    max_template_spread=max_template_spread,\n",
    "    X_train=X_train,\n",
    ")"
   ]
  },
  {
   "cell_type": "code",
   "execution_count": null,
   "metadata": {
    "ExecuteTime": {
     "end_time": "2021-07-19T17:12:00.975263Z",
     "start_time": "2021-07-19T17:12:00.954807Z"
    }
   },
   "outputs": [],
   "source": [
    "X_pred = X_test.clone()\n",
    "X_pred[0] = np.nan\n",
    "X_pred[6] = np.nan\n",
    "X_pred[10] = np.nan"
   ]
  },
  {
   "cell_type": "code",
   "execution_count": null,
   "metadata": {
    "ExecuteTime": {
     "end_time": "2021-07-19T17:12:11.003454Z",
     "start_time": "2021-07-19T17:12:10.983406Z"
    }
   },
   "outputs": [],
   "source": [
    "X_test"
   ]
  },
  {
   "cell_type": "code",
   "execution_count": null,
   "metadata": {
    "ExecuteTime": {
     "end_time": "2021-07-19T17:12:11.606207Z",
     "start_time": "2021-07-19T17:12:11.210269Z"
    },
    "scrolled": true
   },
   "outputs": [],
   "source": [
    "X_traj_pred = tsp.heal(\n",
    "    X_start, h_max,\n",
    "    eps=eps,\n",
    "    n_trajectories=n_trajectories,\n",
    "    noise_amp=noise_amp,\n",
    "    X_pred=X_pred,\n",
    "    random_seed=1\n",
    ")"
   ]
  },
  {
   "cell_type": "code",
   "execution_count": null,
   "metadata": {
    "ExecuteTime": {
     "end_time": "2021-07-19T17:13:12.837229Z",
     "start_time": "2021-07-19T17:13:12.818140Z"
    }
   },
   "outputs": [],
   "source": [
    "X_traj_pred = X_traj_pred.cpu().numpy()"
   ]
  },
  {
   "cell_type": "code",
   "execution_count": null,
   "metadata": {
    "ExecuteTime": {
     "end_time": "2021-07-19T17:13:13.192314Z",
     "start_time": "2021-07-19T17:13:13.096916Z"
    }
   },
   "outputs": [],
   "source": [
    "unified_result = tsp.predict_unified(\n",
    "    X_traj_pred,\n",
    "    method='cluster',\n",
    "    dbs_min_trajectories=dbs_min_trajectories,\n",
    "    dbs_eps=dbs_eps,\n",
    "    dbs_min_samples=dbs_min_samples,\n",
    ")\n",
    "X_pred = unified_result['X_pred']\n",
    "\n",
    "non_pred = np.isnan(X_pred).astype(int)\n",
    "rmse = (X_pred - X_test_cpu)**2\n",
    "\n",
    "gc.collect()\n",
    "torch.cuda.empty_cache()"
   ]
  },
  {
   "cell_type": "code",
   "execution_count": null,
   "metadata": {
    "ExecuteTime": {
     "end_time": "2021-07-19T17:13:23.147668Z",
     "start_time": "2021-07-19T17:13:22.862316Z"
    }
   },
   "outputs": [],
   "source": [
    "plot_trajectories(\n",
    "    'random', X_train.cpu().numpy(), X_test.cpu().numpy(), # plotting since X_start\n",
    "    noise_amp, n_trajectories,\n",
    "    X_traj_pred, X_pred#, filename=f'Lorenz_cluster_{fold}_{noise_amp:.2f}.png'\n",
    ")"
   ]
  },
  {
   "cell_type": "code",
   "execution_count": null,
   "metadata": {},
   "outputs": [],
   "source": []
  },
  {
   "cell_type": "code",
   "execution_count": null,
   "metadata": {},
   "outputs": [],
   "source": []
  },
  {
   "cell_type": "code",
   "execution_count": null,
   "metadata": {},
   "outputs": [],
   "source": []
  },
  {
   "cell_type": "code",
   "execution_count": null,
   "metadata": {},
   "outputs": [],
   "source": [
    "X_traj_pred = tsp.heal(\n",
    "    X_start, h_max,\n",
    "    eps=eps,\n",
    "    n_trajectories=n_trajectories,\n",
    "    noise_amp=noise_amp,\n",
    "    X_pred=X_pred,\n",
    "    random_seed=1\n",
    ")"
   ]
  },
  {
   "cell_type": "code",
   "execution_count": null,
   "metadata": {},
   "outputs": [],
   "source": []
  },
  {
   "cell_type": "code",
   "execution_count": null,
   "metadata": {},
   "outputs": [],
   "source": []
  },
  {
   "cell_type": "code",
   "execution_count": null,
   "metadata": {},
   "outputs": [],
   "source": []
  }
 ],
 "metadata": {
  "kernelspec": {
   "display_name": "Python 3 (ipykernel)",
   "language": "python",
   "name": "python3"
  },
  "language_info": {
   "codemirror_mode": {
    "name": "ipython",
    "version": 3
   },
   "file_extension": ".py",
   "mimetype": "text/x-python",
   "name": "python",
   "nbconvert_exporter": "python",
   "pygments_lexer": "ipython3",
   "version": "3.8.10"
  },
  "toc": {
   "base_numbering": 1,
   "nav_menu": {},
   "number_sections": true,
   "sideBar": true,
   "skip_h1_title": true,
   "title_cell": "Table of Contents",
   "title_sidebar": "Contents",
   "toc_cell": true,
   "toc_position": {
    "height": "calc(100% - 180px)",
    "left": "10px",
    "top": "150px",
    "width": "384px"
   },
   "toc_section_display": true,
   "toc_window_display": true
  },
  "varInspector": {
   "cols": {
    "lenName": 16,
    "lenType": 16,
    "lenVar": 40
   },
   "kernels_config": {
    "python": {
     "delete_cmd_postfix": "",
     "delete_cmd_prefix": "del ",
     "library": "var_list.py",
     "varRefreshCmd": "print(var_dic_list())"
    },
    "r": {
     "delete_cmd_postfix": ") ",
     "delete_cmd_prefix": "rm(",
     "library": "var_list.r",
     "varRefreshCmd": "cat(var_dic_list()) "
    }
   },
   "oldHeight": 122.85,
   "position": {
    "height": "790.85px",
    "left": "1538px",
    "right": "20px",
    "top": "116px",
    "width": "350px"
   },
   "types_to_exclude": [
    "module",
    "function",
    "builtin_function_or_method",
    "instance",
    "_Feature"
   ],
   "varInspector_section_display": "block",
   "window_display": true
  }
 },
 "nbformat": 4,
 "nbformat_minor": 4
}
